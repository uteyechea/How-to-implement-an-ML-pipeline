{
  "cells": [
    {
      "cell_type": "markdown",
      "metadata": {
        "id": "view-in-github",
        "colab_type": "text"
      },
      "source": [
        "<a href=\"https://colab.research.google.com/github/uteyechea/How-to-implement-an-ML-pipeline/blob/master/notebooks/ch5_demo.ipynb\" target=\"_parent\"><img src=\"https://colab.research.google.com/assets/colab-badge.svg\" alt=\"Open In Colab\"/></a>"
      ]
    },
    {
      "cell_type": "code",
      "execution_count": 1,
      "id": "f3e407a9",
      "metadata": {
        "colab": {
          "base_uri": "https://localhost:8080/",
          "height": 41
        },
        "id": "f3e407a9",
        "outputId": "c0b03dde-a015-4aaa-af58-b149f37f9d10"
      },
      "outputs": [
        {
          "output_type": "execute_result",
          "data": {
            "image/png": "./dnn.jpg",
            "text/plain": [
              "<IPython.core.display.Image object>"
            ]
          },
          "metadata": {},
          "execution_count": 1
        }
      ],
      "source": [
        "import IPython\n",
        "from IPython import display\n",
        "display.Image(\"./dnn.jpg\")"
      ]
    },
    {
      "cell_type": "code",
      "execution_count": 2,
      "id": "d11260a5",
      "metadata": {
        "id": "d11260a5"
      },
      "outputs": [],
      "source": [
        "import tensorflow as tf\n",
        "import matplotlib.pyplot as plt\n",
        "import numpy as np"
      ]
    },
    {
      "cell_type": "markdown",
      "id": "15bb2cfd",
      "metadata": {
        "id": "15bb2cfd"
      },
      "source": [
        "# 5.10 Building a Machine Learning Algorithm"
      ]
    },
    {
      "cell_type": "markdown",
      "id": "085b0145",
      "metadata": {
        "id": "085b0145"
      },
      "source": [
        "Nearly all deep learning algorithms can be described as particular instances of a fairly simple recipe: combine a specification of a:\n",
        "\n",
        "* dataset\n",
        "* cost function\n",
        "* optimization procedure\n",
        "* model\n",
        "\n",
        "By realizing that we can replace any of these components mostly indepenently from the others, we can obtain a wide range of algorithms. The recipe for constructing a learning algorithm by combining models, costs, and optimization algorithms supports both supervised and unsupervised learning."
      ]
    },
    {
      "cell_type": "markdown",
      "id": "63f5ed3e",
      "metadata": {
        "id": "63f5ed3e"
      },
      "source": [
        "# 5.1 Learning algorithms"
      ]
    },
    {
      "cell_type": "markdown",
      "id": "e09cc961",
      "metadata": {
        "id": "e09cc961"
      },
      "source": [
        "A computer program is said to learn from experience **E** with respect to some class of tasks **T** and performance measure **P**, if its performance at tasks in **T**, as measured by **P**, improves with experience **E**."
      ]
    },
    {
      "cell_type": "markdown",
      "id": "53f4844b",
      "metadata": {
        "id": "53f4844b"
      },
      "source": [
        "## 5.1.3 The Experience, E"
      ]
    },
    {
      "cell_type": "markdown",
      "id": "60035166",
      "metadata": {
        "id": "60035166"
      },
      "source": [
        "A learning algorithm *experiences* a dataset. "
      ]
    },
    {
      "cell_type": "markdown",
      "id": "b472b588",
      "metadata": {
        "id": "b472b588"
      },
      "source": [
        "### Dataset"
      ]
    },
    {
      "cell_type": "markdown",
      "id": "62e568e9",
      "metadata": {
        "id": "62e568e9"
      },
      "source": [
        "The MNIST is a dataset of handwritten digits that is commonly used for training various image processing systems. \n",
        "\n",
        "The database is also widely used for training and testing in the field of machine learning."
      ]
    },
    {
      "cell_type": "code",
      "execution_count": 3,
      "id": "b63f02c9",
      "metadata": {
        "colab": {
          "base_uri": "https://localhost:8080/"
        },
        "id": "b63f02c9",
        "outputId": "aca53965-f8e5-4c72-ca71-680552c12eac"
      },
      "outputs": [
        {
          "output_type": "stream",
          "name": "stdout",
          "text": [
            "Downloading data from https://storage.googleapis.com/tensorflow/tf-keras-datasets/mnist.npz\n",
            "11493376/11490434 [==============================] - 0s 0us/step\n",
            "11501568/11490434 [==============================] - 0s 0us/step\n"
          ]
        }
      ],
      "source": [
        "(train_images, train_labels), (validation_images, validation_labels) = tf.keras.datasets.mnist.load_data()"
      ]
    },
    {
      "cell_type": "code",
      "execution_count": 4,
      "id": "1196330e",
      "metadata": {
        "colab": {
          "base_uri": "https://localhost:8080/",
          "height": 501
        },
        "id": "1196330e",
        "outputId": "5a3a4d38-092e-4a8a-f093-ccaecf48525d"
      },
      "outputs": [
        {
          "output_type": "stream",
          "name": "stdout",
          "text": [
            "Train set size 60000 is around 85.7% of the data. Each data point has dimensions (28, 28)\n",
            "Validation(Dev) set size 10000 is around 14.3% of the data. Each data point has dimensions (28, 28)\n",
            "There are 10 classes. They are [0, 1, 2, 3, 4, 5, 6, 7, 8, 9]\n"
          ]
        },
        {
          "output_type": "display_data",
          "data": {
            "image/png": "[encoded data removed]",
            "text/plain": [
              "<Figure size 504x504 with 9 Axes>"
            ]
          },
          "metadata": {}
        }
      ],
      "source": [
        "#dataset properties\n",
        "train_ds_size = len(train_images)\n",
        "validation_ds_size = len(validation_images)\n",
        "class_names = list(set(train_labels))\n",
        "ds_size = train_ds_size + validation_ds_size\n",
        "print(f'Train set size {train_ds_size} is around {np.around(train_ds_size/ds_size * 100,1)}% of the data. Each data point has dimensions {train_images.shape[1:]}')\n",
        "print(f'Validation(Dev) set size {validation_ds_size} is around {np.around(validation_ds_size/ds_size * 100,1)}% of the data. Each data point has dimensions {validation_images.shape[1:]}')\n",
        "print(f'There are {len(class_names)} classes. They are {class_names}')\n",
        "\n",
        "plt.figure(figsize=(7,7))\n",
        "for i in range(9):\n",
        "    plt.subplot(3,3,i+1)\n",
        "    plt.xticks([])\n",
        "    plt.yticks([])\n",
        "    plt.grid(False)\n",
        "    plt.imshow(train_images[i])\n",
        "    # The CIFAR labels happen to be arrays, \n",
        "    # which is why you need the extra index\n",
        "    plt.xlabel(class_names[train_labels[i]])\n",
        "plt.show()"
      ]
    },
    {
      "cell_type": "markdown",
      "id": "5d77945f",
      "metadata": {
        "id": "5d77945f"
      },
      "source": [
        "## 5.1.2 The Performance Measure, P "
      ]
    },
    {
      "cell_type": "markdown",
      "id": "9b08ae60",
      "metadata": {
        "id": "9b08ae60"
      },
      "source": [
        "To evaluate the abilities of a machine learning algorithm, we must design a quantitative measure of its performance. \n",
        "\n",
        "We are interested in how well the machine learning algorithm performs on data that it has not seen before, since this determines how well it will work when deployed in the real world. \n",
        "\n",
        "We therefore evaluate these performance measures using a **test set** of data that is separate from the data used for training the machine learning system.\n"
      ]
    },
    {
      "cell_type": "code",
      "execution_count": 5,
      "id": "a23b755b",
      "metadata": {
        "colab": {
          "base_uri": "https://localhost:8080/"
        },
        "id": "a23b755b",
        "outputId": "91e7ff6d-046b-4cee-e5c0-1c88a4febaa5"
      },
      "outputs": [
        {
          "output_type": "stream",
          "name": "stdout",
          "text": [
            "Train set size 60000 is around 85.7% of the data. Each data point has dimensions (28, 28)\n",
            "Validation(Dev) set size 8000 is around 11.4% of the data. Each data point has dimensions (28, 28)\n",
            "Test set size 2000 is around 2.9% of the data. Each data point has dimensions (28, 28)\n",
            "There are 10 classes. They are [0, 1, 2, 3, 4, 5, 6, 7, 8, 9]\n"
          ]
        }
      ],
      "source": [
        "#Select a ratio of the validation set images to use as test images\n",
        "ratio = 0.8\n",
        "#New test set\n",
        "test_images = validation_images[int(validation_ds_size * ratio):]\n",
        "test_labels = validation_labels[int(validation_ds_size * ratio):]\n",
        "#New validation set\n",
        "validation_images=validation_images[:int(validation_ds_size * ratio)]\n",
        "validation_labels=validation_labels[:int(validation_ds_size * ratio)]\n",
        "#dataset properties\n",
        "train_ds_size = len(train_images)\n",
        "validation_ds_size = len(validation_images)\n",
        "test_ds_size = len(test_images)\n",
        "class_names = list(set(train_labels))\n",
        "ds_size = train_ds_size + validation_ds_size + test_ds_size\n",
        "\n",
        "print(f'Train set size {train_ds_size} is around {np.around(train_ds_size/ds_size * 100,1)}% of the data. Each data point has dimensions {train_images.shape[1:]}')\n",
        "print(f'Validation(Dev) set size {validation_ds_size} is around {np.around(validation_ds_size/ds_size * 100,1)}% of the data. Each data point has dimensions {validation_images.shape[1:]}')\n",
        "print(f'Test set size {test_ds_size} is around {np.around(test_ds_size/ds_size * 100,1)}% of the data. Each data point has dimensions {test_images.shape[1:]}')\n",
        "print(f'There are {len(class_names)} classes. They are {class_names}')"
      ]
    },
    {
      "cell_type": "markdown",
      "id": "f7dcdb9d",
      "metadata": {
        "id": "f7dcdb9d"
      },
      "source": [
        "### Why? Much experimentation, show that"
      ]
    },
    {
      "cell_type": "code",
      "execution_count": 6,
      "id": "f25336e8",
      "metadata": {
        "id": "f25336e8"
      },
      "outputs": [],
      "source": [
        "normalize = True #books or papers usually don't mention this step.\n",
        "if normalize == True:\n",
        "    train_images = train_images / 255.0\n",
        "    validation_images = validation_images / 255.0\n",
        "    test_images = test_images / 255.0"
      ]
    },
    {
      "cell_type": "markdown",
      "id": "711b04e3",
      "metadata": {
        "id": "711b04e3"
      },
      "source": [
        "## 5.1.1 The Task, T"
      ]
    },
    {
      "cell_type": "markdown",
      "id": "74cdc9dd",
      "metadata": {
        "id": "74cdc9dd"
      },
      "source": [
        "Machine learning enables us to tackle tasks that are too diﬃcult to solve with ﬁxed programs written and designed by human beings. Learning is our means of attaining the ability to perform the task."
      ]
    },
    {
      "cell_type": "markdown",
      "id": "54da2478",
      "metadata": {
        "id": "54da2478"
      },
      "source": [
        "### Classification"
      ]
    },
    {
      "cell_type": "code",
      "execution_count": 7,
      "id": "3b27fe1b",
      "metadata": {
        "id": "3b27fe1b"
      },
      "outputs": [],
      "source": [
        "def build_model(num_classes=len(class_names), hidden_layers=1, units=16, data_shape=train_images.shape[1:]):\n",
        "    model = tf.keras.Sequential()\n",
        "    # input layer\n",
        "    model.add(tf.keras.layers.InputLayer(input_shape=list(data_shape)))\n",
        "    # MLP required shape\n",
        "    model.add(tf.keras.layers.Flatten())\n",
        "    \n",
        "    #hidden layer(s)\n",
        "    for hidden_layer in range(1,hidden_layers+1):\n",
        "        model.add(tf.keras.layers.Dense(units, activation='relu'))\n",
        "\n",
        "    '''\n",
        "    Run it witout regularization to see overfitting.\n",
        "    '''        \n",
        "    #output layer \n",
        "    #model.add(tf.keras.layers.Dense(num_classes, activation='softmax')) \n",
        "    model.add(tf.keras.layers.Dense(num_classes, activation='softmax', kernel_regularizer=tf.keras.regularizers.L2(0.1))) \n",
        "    \n",
        "    loss=tf.keras.losses.SparseCategoricalCrossentropy() \n",
        "    metrics=['accuracy']\n",
        "    optimizer=tf.keras.optimizers.Adam()\n",
        "    \n",
        "    model.compile(loss=loss, metrics=metrics, optimizer=optimizer)\n",
        "    \n",
        "    return model"
      ]
    },
    {
      "cell_type": "code",
      "execution_count": 8,
      "id": "9ea62076",
      "metadata": {
        "colab": {
          "base_uri": "https://localhost:8080/"
        },
        "id": "9ea62076",
        "outputId": "3d5bfbbc-7daf-4182-83ec-d202e8909505"
      },
      "outputs": [
        {
          "output_type": "stream",
          "name": "stdout",
          "text": [
            "Model: \"sequential\"\n",
            "_________________________________________________________________\n",
            " Layer (type)                Output Shape              Param #   \n",
            "=================================================================\n",
            " flatten (Flatten)           (None, 784)               0         \n",
            "                                                                 \n",
            " dense (Dense)               (None, 16)                12560     \n",
            "                                                                 \n",
            " dense_1 (Dense)             (None, 10)                170       \n",
            "                                                                 \n",
            "=================================================================\n",
            "Total params: 12,730\n",
            "Trainable params: 12,730\n",
            "Non-trainable params: 0\n",
            "_________________________________________________________________\n"
          ]
        }
      ],
      "source": [
        "model = build_model()\n",
        "# Verify that the network is as you imagined\n",
        "model.summary()"
      ]
    },
    {
      "cell_type": "markdown",
      "id": "f33254f7",
      "metadata": {
        "id": "f33254f7"
      },
      "source": [
        "### Supervised Learning of *p(y | x)*"
      ]
    },
    {
      "cell_type": "code",
      "execution_count": 9,
      "id": "a067157d",
      "metadata": {
        "colab": {
          "base_uri": "https://localhost:8080/"
        },
        "id": "a067157d",
        "outputId": "bbcf28e1-d236-47da-b0a1-a7c74310eaed"
      },
      "outputs": [
        {
          "output_type": "stream",
          "name": "stdout",
          "text": [
            "Epoch 1/30\n",
            "1875/1875 [==============================] - 11s 5ms/step - loss: 0.9054 - accuracy: 0.8526 - val_loss: 0.5554 - val_accuracy: 0.8975\n",
            "Epoch 2/30\n",
            "1875/1875 [==============================] - 10s 5ms/step - loss: 0.4817 - accuracy: 0.9073 - val_loss: 0.4501 - val_accuracy: 0.9064\n",
            "Epoch 3/30\n",
            "1875/1875 [==============================] - 5s 3ms/step - loss: 0.4105 - accuracy: 0.9157 - val_loss: 0.3925 - val_accuracy: 0.9169\n",
            "Epoch 4/30\n",
            "1875/1875 [==============================] - 4s 2ms/step - loss: 0.3704 - accuracy: 0.9216 - val_loss: 0.3671 - val_accuracy: 0.9201\n",
            "Epoch 5/30\n",
            "1875/1875 [==============================] - 4s 2ms/step - loss: 0.3449 - accuracy: 0.9253 - val_loss: 0.3474 - val_accuracy: 0.9226\n",
            "Epoch 6/30\n",
            "1875/1875 [==============================] - 4s 2ms/step - loss: 0.3265 - accuracy: 0.9280 - val_loss: 0.3304 - val_accuracy: 0.9266\n",
            "Epoch 7/30\n",
            "1875/1875 [==============================] - 4s 2ms/step - loss: 0.3130 - accuracy: 0.9296 - val_loss: 0.3155 - val_accuracy: 0.9274\n",
            "Epoch 8/30\n",
            "1875/1875 [==============================] - 4s 2ms/step - loss: 0.3025 - accuracy: 0.9317 - val_loss: 0.3064 - val_accuracy: 0.9296\n",
            "Epoch 9/30\n",
            "1875/1875 [==============================] - 4s 2ms/step - loss: 0.2930 - accuracy: 0.9336 - val_loss: 0.3008 - val_accuracy: 0.9295\n",
            "Epoch 10/30\n",
            "1875/1875 [==============================] - 4s 2ms/step - loss: 0.2849 - accuracy: 0.9351 - val_loss: 0.2938 - val_accuracy: 0.9298\n",
            "Epoch 11/30\n",
            "1875/1875 [==============================] - 4s 2ms/step - loss: 0.2780 - accuracy: 0.9369 - val_loss: 0.2851 - val_accuracy: 0.9321\n",
            "Epoch 12/30\n",
            "1875/1875 [==============================] - 4s 2ms/step - loss: 0.2717 - accuracy: 0.9383 - val_loss: 0.2782 - val_accuracy: 0.9341\n",
            "Epoch 13/30\n",
            "1875/1875 [==============================] - 4s 2ms/step - loss: 0.2670 - accuracy: 0.9393 - val_loss: 0.2801 - val_accuracy: 0.9342\n",
            "Epoch 14/30\n",
            "1875/1875 [==============================] - 4s 2ms/step - loss: 0.2608 - accuracy: 0.9406 - val_loss: 0.2787 - val_accuracy: 0.9331\n",
            "Epoch 15/30\n",
            "1875/1875 [==============================] - 4s 2ms/step - loss: 0.2566 - accuracy: 0.9410 - val_loss: 0.2691 - val_accuracy: 0.9391\n",
            "Epoch 16/30\n",
            "1875/1875 [==============================] - 4s 2ms/step - loss: 0.2520 - accuracy: 0.9422 - val_loss: 0.2629 - val_accuracy: 0.9367\n",
            "Epoch 17/30\n",
            "1875/1875 [==============================] - 4s 2ms/step - loss: 0.2476 - accuracy: 0.9430 - val_loss: 0.2654 - val_accuracy: 0.9375\n",
            "Epoch 18/30\n",
            "1875/1875 [==============================] - 4s 2ms/step - loss: 0.2449 - accuracy: 0.9432 - val_loss: 0.2637 - val_accuracy: 0.9376\n",
            "Epoch 19/30\n",
            "1875/1875 [==============================] - 4s 2ms/step - loss: 0.2417 - accuracy: 0.9441 - val_loss: 0.2547 - val_accuracy: 0.9394\n",
            "Epoch 20/30\n",
            "1875/1875 [==============================] - 5s 2ms/step - loss: 0.2377 - accuracy: 0.9445 - val_loss: 0.2548 - val_accuracy: 0.9377\n",
            "Epoch 21/30\n",
            "1875/1875 [==============================] - 4s 2ms/step - loss: 0.2340 - accuracy: 0.9469 - val_loss: 0.2467 - val_accuracy: 0.9414\n",
            "Epoch 22/30\n",
            "1875/1875 [==============================] - 4s 2ms/step - loss: 0.2318 - accuracy: 0.9467 - val_loss: 0.2458 - val_accuracy: 0.9413\n",
            "Epoch 23/30\n",
            "1875/1875 [==============================] - 4s 2ms/step - loss: 0.2286 - accuracy: 0.9477 - val_loss: 0.2444 - val_accuracy: 0.9404\n",
            "Epoch 24/30\n",
            "1875/1875 [==============================] - 5s 2ms/step - loss: 0.2260 - accuracy: 0.9479 - val_loss: 0.2429 - val_accuracy: 0.9411\n",
            "Epoch 25/30\n",
            "1875/1875 [==============================] - 4s 2ms/step - loss: 0.2238 - accuracy: 0.9478 - val_loss: 0.2338 - val_accuracy: 0.9446\n",
            "Epoch 26/30\n",
            "1875/1875 [==============================] - 4s 2ms/step - loss: 0.2215 - accuracy: 0.9489 - val_loss: 0.2320 - val_accuracy: 0.9451\n",
            "Epoch 27/30\n",
            "1875/1875 [==============================] - 4s 2ms/step - loss: 0.2188 - accuracy: 0.9496 - val_loss: 0.2346 - val_accuracy: 0.9440\n",
            "Epoch 28/30\n",
            "1875/1875 [==============================] - 5s 2ms/step - loss: 0.2174 - accuracy: 0.9506 - val_loss: 0.2303 - val_accuracy: 0.9433\n",
            "Epoch 29/30\n",
            "1875/1875 [==============================] - 4s 2ms/step - loss: 0.2152 - accuracy: 0.9503 - val_loss: 0.2360 - val_accuracy: 0.9433\n",
            "Epoch 30/30\n",
            "1875/1875 [==============================] - 4s 2ms/step - loss: 0.2142 - accuracy: 0.9505 - val_loss: 0.2310 - val_accuracy: 0.9446\n"
          ]
        }
      ],
      "source": [
        "history = model.fit(train_images, train_labels, epochs=30, batch_size=32, validation_data=(validation_images, validation_labels))"
      ]
    },
    {
      "cell_type": "markdown",
      "id": "a03e3b0a",
      "metadata": {
        "id": "a03e3b0a"
      },
      "source": [
        "## 5.2 Capacity, Overfitting and Underfitting"
      ]
    },
    {
      "cell_type": "code",
      "execution_count": 10,
      "id": "2e17e28e",
      "metadata": {
        "colab": {
          "base_uri": "https://localhost:8080/",
          "height": 414
        },
        "id": "2e17e28e",
        "outputId": "f0c44bc2-544d-4067-8751-7e36c2e983ed"
      },
      "outputs": [
        {
          "output_type": "display_data",
          "data": {
            "image/png": "[encoded data removed]",
            "text/plain": [
              "<Figure size 1152x576 with 2 Axes>"
            ]
          },
          "metadata": {
            "needs_background": "light"
          }
        }
      ],
      "source": [
        "acc = history.history['accuracy']\n",
        "val_acc = history.history['val_accuracy']\n",
        "\n",
        "loss = history.history['loss']\n",
        "val_loss = history.history['val_loss']\n",
        "\n",
        "epochs_range = range(30)\n",
        "\n",
        "plt.figure(figsize=(16, 8))\n",
        "plt.subplot(1, 2, 1)\n",
        "plt.plot(epochs_range, acc, label='Training Accuracy')\n",
        "plt.plot(epochs_range, val_acc, label='Validation Accuracy')\n",
        "plt.legend(loc='lower right')\n",
        "plt.title('Training and Validation Accuracy')\n",
        "\n",
        "plt.subplot(1, 2, 2)\n",
        "plt.plot(epochs_range, loss, label='Training Loss')\n",
        "plt.plot(epochs_range, val_loss, label='Validation Loss')\n",
        "plt.legend(loc='upper right')\n",
        "plt.title('Training and Validation Loss')\n",
        "plt.show()"
      ]
    },
    {
      "cell_type": "markdown",
      "id": "ccf628d0",
      "metadata": {
        "id": "ccf628d0"
      },
      "source": [
        "## 5.1.2 The Performance Measure, P "
      ]
    },
    {
      "cell_type": "code",
      "execution_count": 11,
      "id": "3cf1ffbd",
      "metadata": {
        "colab": {
          "base_uri": "https://localhost:8080/"
        },
        "id": "3cf1ffbd",
        "outputId": "257c9900-c36e-40e7-a503-7db31eef0ab6"
      },
      "outputs": [
        {
          "output_type": "stream",
          "name": "stdout",
          "text": [
            "63/63 [==============================] - 0s 2ms/step - loss: 0.1645 - accuracy: 0.9615\n"
          ]
        },
        {
          "output_type": "execute_result",
          "data": {
            "text/plain": [
              "[0.1645352989435196, 0.9614999890327454]"
            ]
          },
          "metadata": {},
          "execution_count": 11
        }
      ],
      "source": [
        "model.evaluate(test_images, test_labels)"
      ]
    },
    {
      "cell_type": "markdown",
      "id": "7bba5da6",
      "metadata": {
        "id": "7bba5da6"
      },
      "source": [
        "# Inference"
      ]
    },
    {
      "cell_type": "code",
      "execution_count": 12,
      "id": "3d42df68",
      "metadata": {
        "colab": {
          "base_uri": "https://localhost:8080/",
          "height": 99
        },
        "id": "3d42df68",
        "outputId": "577f7652-cd0e-4364-ab37-c7ec46e903c3"
      },
      "outputs": [
        {
          "output_type": "display_data",
          "data": {
            "image/png": "[encoded data removed]",
            "text/plain": [
              "<Figure size 72x72 with 1 Axes>"
            ]
          },
          "metadata": {}
        }
      ],
      "source": [
        "#Choose a random image from the test set\n",
        "random_image_index = np.random.choice(test_ds_size)\n",
        "random_image = test_images[random_image_index]\n",
        "# Use the trained model to predict the label of an image\n",
        "prediction = model.predict(random_image.reshape(1,28,28))\n",
        "score = tf.nn.softmax(prediction[0])\n",
        "predicted_label = list(score).index(max(score))\n",
        "# See the results\n",
        "plt.figure(figsize=(1,1))\n",
        "plt.xticks([])\n",
        "plt.yticks([])\n",
        "plt.grid(False)\n",
        "plt.imshow(random_image)\n",
        "plt.xlabel(class_names[predicted_label])\n",
        "plt.show()"
      ]
    },
    {
      "cell_type": "code",
      "execution_count": 12,
      "id": "75851ec8",
      "metadata": {
        "id": "75851ec8"
      },
      "outputs": [],
      "source": [
        ""
      ]
    }
  ],
  "metadata": {
    "kernelspec": {
      "display_name": "Python 3 (ipykernel)",
      "language": "python",
      "name": "python3"
    },
    "language_info": {
      "codemirror_mode": {
        "name": "ipython",
        "version": 3
      },
      "file_extension": ".py",
      "mimetype": "text/x-python",
      "name": "python",
      "nbconvert_exporter": "python",
      "pygments_lexer": "ipython3",
      "version": "3.9.10"
    },
    "colab": {
      "name": "ch5-demo.ipynb",
      "provenance": [],
      "toc_visible": true,
      "include_colab_link": true
    }
  },
  "nbformat": 4,
  "nbformat_minor": 5
}