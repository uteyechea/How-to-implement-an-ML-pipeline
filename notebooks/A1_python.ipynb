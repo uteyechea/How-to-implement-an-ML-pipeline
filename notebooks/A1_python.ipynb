{
  "nbformat": 4,
  "nbformat_minor": 0,
  "metadata": {
    "colab": {
      "name": "A1-python.ipynb",
      "provenance": [],
      "toc_visible": true,
      "authorship_tag": "ABX9TyMhCwWrHb0Mp6IPvSKZ4Xch",
      "include_colab_link": true
    },
    "kernelspec": {
      "name": "python3",
      "display_name": "Python 3"
    },
    "language_info": {
      "name": "python"
    }
  },
  "cells": [
    {
      "cell_type": "markdown",
      "metadata": {
        "id": "view-in-github",
        "colab_type": "text"
      },
      "source": [
        "<a href=\"https://colab.research.google.com/github/uteyechea/How-to-implement-an-ML-pipeline/blob/master/notebooks/A1_python.ipynb\" target=\"_parent\"><img src=\"https://colab.research.google.com/assets/colab-badge.svg\" alt=\"Open In Colab\"/></a>"
      ]
    },
    {
      "cell_type": "markdown",
      "source": [
        "# Testing python proficiency"
      ],
      "metadata": {
        "id": "Rs0YlIOQO7_e"
      }
    },
    {
      "cell_type": "markdown",
      "source": [
        "This notebook has a collection of Python excercises. Solve them optimizing run time O(n)"
      ],
      "metadata": {
        "id": "byU0GklA9Z-R"
      }
    },
    {
      "cell_type": "markdown",
      "source": [
        "To translate this notebook https://gist.github.com/tomo-makes/4fa9cf1e136d7bfa6f6c94a8a3afd864"
      ],
      "metadata": {
        "id": "SnWpdn_VNiBe"
      }
    },
    {
      "cell_type": "markdown",
      "source": [
        "## Example"
      ],
      "metadata": {
        "id": "A7Sni8w7-Kov"
      }
    },
    {
      "cell_type": "markdown",
      "source": [
        "Write a function that takes in a non-empty array of distinct integers and an integer representing a target sum. If any two numbers in the input array sum to the target sum, the function should return them in an array, in any order. If no two numbers sum up to the target sum, the function should return an empty array.\n",
        "\n",
        "Note that the target sum has to be obtained by summing two different integers in the array; you can't add a single integer to itself to obtain the target sum. \n",
        "\n",
        "You can assume that there will be at most one pair of numbers summing up to the target sum. "
      ],
      "metadata": {
        "id": "uN5dP3Vs-0J3"
      }
    },
    {
      "cell_type": "code",
      "execution_count": 2,
      "metadata": {
        "colab": {
          "base_uri": "https://localhost:8080/"
        },
        "id": "-TQnRP_C9KMB",
        "outputId": "245edba4-ad8d-4549-92ff-8aaf78bfaeda"
      },
      "outputs": [
        {
          "output_type": "execute_result",
          "data": {
            "text/plain": [
              "[-1, 11]"
            ]
          },
          "metadata": {},
          "execution_count": 2
        }
      ],
      "source": [
        "#sample input\n",
        "array = [3, 5, -4, 11, 1, -1, 6]\n",
        "target_sum = 10\n",
        "#sample output\n",
        "[-1, 11] # the numbers can be in any order."
      ]
    },
    {
      "cell_type": "code",
      "source": [
        "#Write your code here\n",
        "def two_numbers_sum(array, target_sum):\n",
        "  for i in range(len(array)-1):\n",
        "    first_num = array[i]\n",
        "    for j in range(i + 1, len(array)):\n",
        "      second_num = array[j]\n",
        "      if first_num + second_num == target_sum:\n",
        "        return [first_num, second_num]\n",
        "  return []"
      ],
      "metadata": {
        "id": "F5sAsJ-2_5vf"
      },
      "execution_count": 3,
      "outputs": []
    },
    {
      "cell_type": "code",
      "source": [
        "#test your code here\n",
        "two_numbers_sum(array, target_sum)"
      ],
      "metadata": {
        "colab": {
          "base_uri": "https://localhost:8080/"
        },
        "id": "9aabemO7A6eH",
        "outputId": "046efe3d-6480-4225-fb35-ab23823d243b"
      },
      "execution_count": 4,
      "outputs": [
        {
          "output_type": "execute_result",
          "data": {
            "text/plain": [
              "[11, -1]"
            ]
          },
          "metadata": {},
          "execution_count": 4
        }
      ]
    },
    {
      "cell_type": "markdown",
      "source": [
        "# Exercises"
      ],
      "metadata": {
        "id": "4VsMhu6w-OsH"
      }
    },
    {
      "cell_type": "markdown",
      "source": [
        "## 1. Validate subsequence"
      ],
      "metadata": {
        "id": "SkM_d4K0LSC2"
      }
    },
    {
      "cell_type": "markdown",
      "source": [
        "Given two non-empty arrays of integers, write a function that determines whether the second array is a subsequence of the first one. \n",
        "\n",
        "A subsequence of an array is a set of numbers that aren't necessarily adjacent in the array but that are in the same order as they appear in the array. \n",
        "\n",
        "For instance, the numbers [1,3,4] form a subsequence of the array [1,2,3,4], and so do the sequence [2,4]. \n",
        "\n",
        "Note that a single number in an array and the array itself are both valid subsequences of the array."
      ],
      "metadata": {
        "id": "GJrBs5D9JCUQ"
      }
    },
    {
      "cell_type": "code",
      "source": [
        "#sample input\n",
        "array = [5,1,22,25,6,-1,8,10]\n",
        "sequence = [1,6,-1,10]\n",
        "#sample output \n",
        "True"
      ],
      "metadata": {
        "colab": {
          "base_uri": "https://localhost:8080/"
        },
        "id": "CMSzDI_v-SBP",
        "outputId": "433a76f5-83a9-4689-9859-80a970b3eab6"
      },
      "execution_count": 5,
      "outputs": [
        {
          "output_type": "execute_result",
          "data": {
            "text/plain": [
              "True"
            ]
          },
          "metadata": {},
          "execution_count": 5
        }
      ]
    },
    {
      "cell_type": "code",
      "source": [
        "def is_valid_subsequence(array, sequence):\n",
        "  #Write your code here\n",
        "  pass"
      ],
      "metadata": {
        "id": "-hz4s5OTKxaw"
      },
      "execution_count": 13,
      "outputs": []
    },
    {
      "cell_type": "code",
      "source": [
        "#Test your code here\n",
        "is_valid_subsequence(array, sequence)"
      ],
      "metadata": {
        "id": "yOeHabEyK2GH"
      },
      "execution_count": 15,
      "outputs": []
    },
    {
      "cell_type": "markdown",
      "source": [
        "## 2. Sorted squared array"
      ],
      "metadata": {
        "id": "1Y3rnat1LVmf"
      }
    },
    {
      "cell_type": "markdown",
      "source": [
        "Write a function that takes in a non-empty array of integers that are sorted in ascending order and returns a new array of the same length with the squares of the original integers also sorted in ascending order. "
      ],
      "metadata": {
        "id": "sVbFGEGcLvd-"
      }
    },
    {
      "cell_type": "code",
      "source": [
        "#sample input\n",
        "array = [1,2,3,5,6,8,9]\n",
        "# output\n",
        "[1,4,9,25,36,64,81]"
      ],
      "metadata": {
        "colab": {
          "base_uri": "https://localhost:8080/"
        },
        "id": "xNcanijAL4dP",
        "outputId": "8b35046d-ab70-474a-cd36-503989ed12d3"
      },
      "execution_count": 9,
      "outputs": [
        {
          "output_type": "execute_result",
          "data": {
            "text/plain": [
              "[1, 4, 9, 25, 36, 64, 81]"
            ]
          },
          "metadata": {},
          "execution_count": 9
        }
      ]
    },
    {
      "cell_type": "code",
      "source": [
        "def sorted_squared_array(array):\n",
        "  #Write your code here\n",
        "  pass"
      ],
      "metadata": {
        "id": "nxrpqEWaLuse"
      },
      "execution_count": 17,
      "outputs": []
    },
    {
      "cell_type": "code",
      "source": [
        "#Test your code here\n",
        "sorted_squared_array(array)"
      ],
      "metadata": {
        "id": "kfWekTDLLzxW"
      },
      "execution_count": 18,
      "outputs": []
    },
    {
      "cell_type": "markdown",
      "source": [
        "## 3. Binary search"
      ],
      "metadata": {
        "id": "sxCLRZEjMIOm"
      }
    },
    {
      "cell_type": "markdown",
      "source": [
        "Write a function that takes in a sorted array of integers as well as a target integer. The funciton should use the Binary Search algorithm to determine if the target integer is contained in the array and should return its index if it is, otherwise -1.\n",
        "\n",
        "Review of the Binary Search algorithm https://youtu.be/P3YID7liBug "
      ],
      "metadata": {
        "id": "GXs76cqSMa4-"
      }
    },
    {
      "cell_type": "code",
      "source": [
        "#Sample input\n",
        "array = [0,1,21,33,45,45,31,71,72,73]\n",
        "target = 33\n",
        "#Sample output\n",
        "3"
      ],
      "metadata": {
        "colab": {
          "base_uri": "https://localhost:8080/"
        },
        "id": "d80DJeOkMYkV",
        "outputId": "c7fb9ff8-c98a-479f-9b55-737593143f92"
      },
      "execution_count": 10,
      "outputs": [
        {
          "output_type": "execute_result",
          "data": {
            "text/plain": [
              "3"
            ]
          },
          "metadata": {},
          "execution_count": 10
        }
      ]
    },
    {
      "cell_type": "code",
      "source": [
        "def binary_search(array, target):\n",
        "  #write your code here\n",
        "  pass"
      ],
      "metadata": {
        "id": "EJC2hm5sN8qW"
      },
      "execution_count": 11,
      "outputs": []
    },
    {
      "cell_type": "code",
      "source": [
        "#Test your code\n",
        "binary_search(array, target)"
      ],
      "metadata": {
        "id": "C5TFOLMxOIWO"
      },
      "execution_count": 12,
      "outputs": []
    },
    {
      "cell_type": "code",
      "source": [
        ""
      ],
      "metadata": {
        "id": "7k1g79smOMcV"
      },
      "execution_count": null,
      "outputs": []
    },
    {
      "cell_type": "markdown",
      "source": [
        "## Depth-first search"
      ],
      "metadata": {
        "id": "77tXE4NJOzul"
      }
    },
    {
      "cell_type": "markdown",
      "source": [
        "You're given a Node class that has a name and an array of optional children nodes. \n",
        "When put together, nodes form an acyclic tree-like structure. \n",
        "\n",
        "Implement the depth_first_search method on the Node class, which takes in an empty array, traverses the tree using the Depth-First Search approach (specifically navigating the tree from left to right) stores all of the nodes' names in the input array, and returns it. \n",
        "\n",
        "If you are unfamiliar with Depth-First search here is a tutorial https://youtu.be/zaBhtODEL0w"
      ],
      "metadata": {
        "id": "2IgspDiFPbED"
      }
    },
    {
      "cell_type": "markdown",
      "source": [
        "**(Double click to see properly)**\n",
        "\n",
        "Sample input \n",
        "graph = A\n",
        "     /  |  \\\n",
        "     B  C   D\n",
        "    / \\    / \\ \n",
        "    E  F  G   H\n",
        "      / \\  \\\n",
        "      I  J  K\n",
        "\n",
        "Sample output\n",
        "['A','B','E','F','I','J','C','D','G','K','H']"
      ],
      "metadata": {
        "id": "oSKChnVAQxTj"
      }
    },
    {
      "cell_type": "code",
      "source": [
        "# Do not edit the class below except\n",
        "# for the depth_first_search method.\n",
        "# Feel free to add new properties\n",
        "# and methods to the class.\n",
        "class Node:\n",
        "    def __init__(self, name):\n",
        "        self.children = []\n",
        "        self.name = name\n",
        "\n",
        "    def addChild(self, name):\n",
        "        self.children.append(Node(name))\n",
        "        return self\n",
        "\n",
        "    def depth_first_search(self, array):\n",
        "        # Write your code here.\n",
        "        pass\n",
        "\n",
        "\n",
        "#Graph instance\n",
        "graph = Node(\"A\")\n",
        "graph.addChild(\"B\").addChild(\"C\").addChild(\"D\")\n",
        "graph.children[0].addChild(\"E\").addChild(\"F\")\n",
        "graph.children[2].addChild(\"G\").addChild(\"H\")\n",
        "graph.children[0].children[1].addChild(\"I\").addChild(\"J\")\n",
        "graph.children[2].children[0].addChild(\"K\")\n"
      ],
      "metadata": {
        "colab": {
          "base_uri": "https://localhost:8080/"
        },
        "id": "0IzgBoTGPY7V",
        "outputId": "101653af-f1ff-4341-cf7d-e96927171708"
      },
      "execution_count": 23,
      "outputs": [
        {
          "output_type": "execute_result",
          "data": {
            "text/plain": [
              "<__main__.Node at 0x7fd418bed650>"
            ]
          },
          "metadata": {},
          "execution_count": 23
        }
      ]
    },
    {
      "cell_type": "code",
      "source": [
        "#Test your code\n",
        "graph.depth_first_search([])"
      ],
      "metadata": {
        "colab": {
          "base_uri": "https://localhost:8080/"
        },
        "id": "Xbd8S01QS-5J",
        "outputId": "f27db61e-ef4c-4ca6-b2af-f3b295782d76"
      },
      "execution_count": 26,
      "outputs": [
        {
          "output_type": "execute_result",
          "data": {
            "text/plain": [
              "['A', 'B', 'E', 'F', 'I', 'J', 'C', 'D', 'G', 'K', 'H']"
            ]
          },
          "metadata": {},
          "execution_count": 26
        }
      ]
    },
    {
      "cell_type": "markdown",
      "source": [
        "## Bubble sort"
      ],
      "metadata": {
        "id": "nCUzB0XMU4HI"
      }
    },
    {
      "cell_type": "markdown",
      "source": [
        "Write a function that takes in an array of integers and returns a sorted version of that array. \n",
        "\n",
        "Use the bubble sort algorithm to sort the array.\n",
        "\n",
        "Bubble sort review https://youtu.be/6Gv8vg0kcHc"
      ],
      "metadata": {
        "id": "qLCo3mohU_dI"
      }
    },
    {
      "cell_type": "code",
      "source": [
        "#Sample input\n",
        "array = [8,5,2,9,5,6,3]\n",
        "#Sample output\n",
        "[2,3,5,5,6,8,9]"
      ],
      "metadata": {
        "colab": {
          "base_uri": "https://localhost:8080/"
        },
        "id": "3qcIk5l9U98i",
        "outputId": "3648b756-699b-4475-c22c-8507a442ae2e"
      },
      "execution_count": 27,
      "outputs": [
        {
          "output_type": "execute_result",
          "data": {
            "text/plain": [
              "[2, 3, 5, 5, 6, 8, 9]"
            ]
          },
          "metadata": {},
          "execution_count": 27
        }
      ]
    },
    {
      "cell_type": "code",
      "source": [
        "def bubble_sort(array):\n",
        "  #write your code here\n",
        "  pass"
      ],
      "metadata": {
        "id": "n8D-izTJVgNY"
      },
      "execution_count": 28,
      "outputs": []
    },
    {
      "cell_type": "code",
      "source": [
        "#test your code\n",
        "bubble_sort(array)"
      ],
      "metadata": {
        "id": "41G6yPt7VmD4"
      },
      "execution_count": 29,
      "outputs": []
    },
    {
      "cell_type": "code",
      "source": [
        ""
      ],
      "metadata": {
        "id": "VxsnJY3wVpqg"
      },
      "execution_count": null,
      "outputs": []
    }
  ]
}