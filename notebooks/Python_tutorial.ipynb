{
  "nbformat": 4,
  "nbformat_minor": 0,
  "metadata": {
    "colab": {
      "name": "Python tutorial",
      "provenance": [],
      "collapsed_sections": [],
      "authorship_tag": "ABX9TyOpv56CfIMVW+gZ2lRwmQc/",
      "include_colab_link": true
    },
    "kernelspec": {
      "name": "python3",
      "display_name": "Python 3"
    },
    "language_info": {
      "name": "python"
    }
  },
  "cells": [
    {
      "cell_type": "markdown",
      "metadata": {
        "id": "view-in-github",
        "colab_type": "text"
      },
      "source": [
        "<a href=\"https://colab.research.google.com/github/uteyechea/How-to-implement-an-ML-pipeline/blob/master/notebooks/Python_tutorial.ipynb\" target=\"_parent\"><img src=\"https://colab.research.google.com/assets/colab-badge.svg\" alt=\"Open In Colab\"/></a>"
      ]
    },
    {
      "cell_type": "markdown",
      "source": [
        ""
      ],
      "metadata": {
        "id": "px7ELcNElQI_"
      }
    },
    {
      "cell_type": "code",
      "source": [
        "lista = ['A', 100, 3.14159, [1,2,3]]"
      ],
      "metadata": {
        "id": "xDSXUEUelEwO"
      },
      "execution_count": 13,
      "outputs": []
    },
    {
      "cell_type": "code",
      "source": [
        "lista[3] #O(1)"
      ],
      "metadata": {
        "colab": {
          "base_uri": "https://localhost:8080/"
        },
        "id": "a03yNK4xlkWl",
        "outputId": "9a1181cd-b5ce-4c78-ea06-5ef59f4f6a11"
      },
      "execution_count": 17,
      "outputs": [
        {
          "output_type": "execute_result",
          "data": {
            "text/plain": [
              "[1, 2, 3]"
            ]
          },
          "metadata": {},
          "execution_count": 17
        }
      ]
    },
    {
      "cell_type": "code",
      "source": [
        "lista.insert(0,'first') #O(n)"
      ],
      "metadata": {
        "id": "abs5LH5tlEuB"
      },
      "execution_count": 26,
      "outputs": []
    },
    {
      "cell_type": "code",
      "source": [
        "lista.append('real last') #O(1)"
      ],
      "metadata": {
        "id": "coy6ALSzlErG"
      },
      "execution_count": 27,
      "outputs": []
    },
    {
      "cell_type": "code",
      "source": [
        "lista.remove('last') #O(n)"
      ],
      "metadata": {
        "id": "52Rj7AdBlEon"
      },
      "execution_count": 28,
      "outputs": []
    },
    {
      "cell_type": "code",
      "source": [
        "variable = lista.pop() #O(1)"
      ],
      "metadata": {
        "id": "seb4oBqTlEmG"
      },
      "execution_count": 31,
      "outputs": []
    },
    {
      "cell_type": "code",
      "source": [
        "variable"
      ],
      "metadata": {
        "colab": {
          "base_uri": "https://localhost:8080/",
          "height": 36
        },
        "id": "6yg2zmnFlEjw",
        "outputId": "b37ac103-046d-4624-d2fa-fb4a20227a2b"
      },
      "execution_count": 33,
      "outputs": [
        {
          "output_type": "execute_result",
          "data": {
            "application/vnd.google.colaboratory.intrinsic+json": {
              "type": "string"
            },
            "text/plain": [
              "'real last'"
            ]
          },
          "metadata": {},
          "execution_count": 33
        }
      ]
    },
    {
      "cell_type": "code",
      "source": [
        "lista[0] = 0"
      ],
      "metadata": {
        "id": "yZ2fQivclEg_"
      },
      "execution_count": 35,
      "outputs": []
    },
    {
      "cell_type": "code",
      "source": [
        "lista"
      ],
      "metadata": {
        "colab": {
          "base_uri": "https://localhost:8080/"
        },
        "id": "VtPs8qsNlEem",
        "outputId": "20686814-1a3b-489a-b172-55bc6c8d7fd5"
      },
      "execution_count": 36,
      "outputs": [
        {
          "output_type": "execute_result",
          "data": {
            "text/plain": [
              "[0, 'first', 'A', 1, 3.14159, [1, 2, 3], 'real last']"
            ]
          },
          "metadata": {},
          "execution_count": 36
        }
      ]
    },
    {
      "cell_type": "code",
      "source": [
        "tupla = (1,2.516,3,'a')"
      ],
      "metadata": {
        "id": "m2s5ifO1lEb-"
      },
      "execution_count": 38,
      "outputs": []
    },
    {
      "cell_type": "code",
      "source": [
        "diccionario = {'numbers': [1,2,3,4], 'edad':51, 'altura': 171}"
      ],
      "metadata": {
        "id": "L_TisYK8lEZP"
      },
      "execution_count": 53,
      "outputs": []
    },
    {
      "cell_type": "code",
      "source": [
        "diccionario['numbers']"
      ],
      "metadata": {
        "colab": {
          "base_uri": "https://localhost:8080/"
        },
        "id": "f8L5A8cVlEWW",
        "outputId": "b9d9526a-0531-404c-e379-2c2d1509cc6f"
      },
      "execution_count": 54,
      "outputs": [
        {
          "output_type": "execute_result",
          "data": {
            "text/plain": [
              "[1, 2, 3, 4]"
            ]
          },
          "metadata": {},
          "execution_count": 54
        }
      ]
    },
    {
      "cell_type": "code",
      "source": [
        "diccionario['edad'] = 61"
      ],
      "metadata": {
        "id": "gxiS9rs3lEOW"
      },
      "execution_count": 51,
      "outputs": []
    },
    {
      "cell_type": "code",
      "execution_count": 56,
      "metadata": {
        "id": "MxJtsb-aIzWE",
        "colab": {
          "base_uri": "https://localhost:8080/"
        },
        "outputId": "27f1ea91-9ac7-4f25-f708-9cdfc366847f"
      },
      "outputs": [
        {
          "output_type": "execute_result",
          "data": {
            "text/plain": [
              "True"
            ]
          },
          "metadata": {},
          "execution_count": 56
        }
      ],
      "source": [
        "'numbers' in diccionario"
      ]
    },
    {
      "cell_type": "code",
      "source": [
        "A = {1,2,3}\n",
        "B = {2,3,4}"
      ],
      "metadata": {
        "id": "SzxxUXijwR6m"
      },
      "execution_count": 61,
      "outputs": []
    },
    {
      "cell_type": "code",
      "source": [
        "A.union(B)"
      ],
      "metadata": {
        "colab": {
          "base_uri": "https://localhost:8080/"
        },
        "id": "PSXKMly3wR4H",
        "outputId": "94074a39-7f32-4d39-d428-99d4e42608a8"
      },
      "execution_count": 63,
      "outputs": [
        {
          "output_type": "execute_result",
          "data": {
            "text/plain": [
              "{1, 2, 3, 4}"
            ]
          },
          "metadata": {},
          "execution_count": 63
        }
      ]
    },
    {
      "cell_type": "code",
      "source": [
        "lista = [1,1,2,3,4,5,5]"
      ],
      "metadata": {
        "id": "-dzQnYqAwR1m"
      },
      "execution_count": 64,
      "outputs": []
    },
    {
      "cell_type": "code",
      "source": [
        "set(lista)"
      ],
      "metadata": {
        "colab": {
          "base_uri": "https://localhost:8080/"
        },
        "id": "Rs0gDc9BwRzP",
        "outputId": "239237e3-a750-4053-c264-59e1e12f1f00"
      },
      "execution_count": 65,
      "outputs": [
        {
          "output_type": "execute_result",
          "data": {
            "text/plain": [
              "{1, 2, 3, 4, 5}"
            ]
          },
          "metadata": {},
          "execution_count": 65
        }
      ]
    },
    {
      "cell_type": "code",
      "source": [
        "array_of_squares = ['b']\n",
        "def squares(array):\n",
        "  array_of_squares = ['a']\n",
        "  for number in array:\n",
        "    array_of_squares.append(number**2)\n",
        "  return array_of_squares"
      ],
      "metadata": {
        "id": "ZOPnh7jAwRw4"
      },
      "execution_count": 77,
      "outputs": []
    },
    {
      "cell_type": "code",
      "source": [
        "#sample input\n",
        "array = [1,2,3]\n",
        "#sample output\n",
        "[1,4,9]"
      ],
      "metadata": {
        "colab": {
          "base_uri": "https://localhost:8080/"
        },
        "id": "DlNBNx_ZwRuO",
        "outputId": "3eaa9fc7-039b-4cec-b503-6d36fb8a4cdc"
      },
      "execution_count": 78,
      "outputs": [
        {
          "output_type": "execute_result",
          "data": {
            "text/plain": [
              "[1, 4, 9]"
            ]
          },
          "metadata": {},
          "execution_count": 78
        }
      ]
    },
    {
      "cell_type": "code",
      "source": [
        "squares(array)"
      ],
      "metadata": {
        "colab": {
          "base_uri": "https://localhost:8080/"
        },
        "id": "IZkmmvD3wRrl",
        "outputId": "0a7b02b9-84b7-4ff7-c273-fef4e58aead8"
      },
      "execution_count": 79,
      "outputs": [
        {
          "output_type": "execute_result",
          "data": {
            "text/plain": [
              "['a', 1, 4, 9]"
            ]
          },
          "metadata": {},
          "execution_count": 79
        }
      ]
    },
    {
      "cell_type": "code",
      "source": [
        "#list comprehension\n",
        "[x**2 for x in array]"
      ],
      "metadata": {
        "colab": {
          "base_uri": "https://localhost:8080/"
        },
        "id": "sEUKlvshwRo-",
        "outputId": "03f794ec-6f10-4c66-905d-0bf91ecb9569"
      },
      "execution_count": 80,
      "outputs": [
        {
          "output_type": "execute_result",
          "data": {
            "text/plain": [
              "[1, 4, 9]"
            ]
          },
          "metadata": {},
          "execution_count": 80
        }
      ]
    },
    {
      "cell_type": "code",
      "source": [
        "#lambda functions\n",
        "list(map(lambda x: x**2, array))"
      ],
      "metadata": {
        "id": "T2SO-85dJVCH",
        "colab": {
          "base_uri": "https://localhost:8080/"
        },
        "outputId": "9daebf59-aa16-43f3-888f-b9b09f8d1e76"
      },
      "execution_count": 84,
      "outputs": [
        {
          "output_type": "execute_result",
          "data": {
            "text/plain": [
              "[1, 4, 9]"
            ]
          },
          "metadata": {},
          "execution_count": 84
        }
      ]
    },
    {
      "cell_type": "code",
      "source": [
        "import numpy as np"
      ],
      "metadata": {
        "id": "MbvSa6yd1hfr"
      },
      "execution_count": 90,
      "outputs": []
    },
    {
      "cell_type": "code",
      "source": [
        "np.exp(array)"
      ],
      "metadata": {
        "colab": {
          "base_uri": "https://localhost:8080/"
        },
        "id": "fsOfpMvZ1hdB",
        "outputId": "5f5c1ec1-6e46-40cb-cd57-df6e10e520bc"
      },
      "execution_count": 93,
      "outputs": [
        {
          "output_type": "execute_result",
          "data": {
            "text/plain": [
              "array([ 2.71828183,  7.3890561 , 20.08553692])"
            ]
          },
          "metadata": {},
          "execution_count": 93
        }
      ]
    },
    {
      "cell_type": "code",
      "source": [
        "e = 2.71828183"
      ],
      "metadata": {
        "id": "ZzzBQ9Tr1haa"
      },
      "execution_count": 104,
      "outputs": []
    },
    {
      "cell_type": "code",
      "source": [
        "e**3"
      ],
      "metadata": {
        "colab": {
          "base_uri": "https://localhost:8080/"
        },
        "id": "LEtYOrr-1hYB",
        "outputId": "9599fcbd-ea2f-4e47-8ad1-94c3f914bdba"
      },
      "execution_count": 106,
      "outputs": [
        {
          "output_type": "execute_result",
          "data": {
            "text/plain": [
              "20.08553695734627"
            ]
          },
          "metadata": {},
          "execution_count": 106
        }
      ]
    },
    {
      "cell_type": "code",
      "source": [
        "class Calculator(object):\n",
        "  def __init__(self):\n",
        "    pass \n",
        "\n",
        "  def sumar(self, array):\n",
        "    return np.sum(array)\n",
        "\n",
        "  def restar(self, array):\n",
        "    negatives = [-x for x in array]\n",
        "    return np.sum(negatives)\n",
        "\n",
        "  def __str__(self):\n",
        "    return 'esta es una calculadora que solo suma y resta raro'\n"
      ],
      "metadata": {
        "id": "s-cHJesP1hVh"
      },
      "execution_count": 137,
      "outputs": []
    },
    {
      "cell_type": "code",
      "source": [
        "mi_calculadora = Calculator()"
      ],
      "metadata": {
        "id": "5MLcLRV_1hTK"
      },
      "execution_count": 138,
      "outputs": []
    },
    {
      "cell_type": "code",
      "source": [
        "array = list(range(1,11))"
      ],
      "metadata": {
        "id": "jqxq_L2P1hQi"
      },
      "execution_count": 139,
      "outputs": []
    },
    {
      "cell_type": "code",
      "source": [
        "mi_calculadora.sumar(array)"
      ],
      "metadata": {
        "colab": {
          "base_uri": "https://localhost:8080/"
        },
        "id": "QhA_kGOj1hN1",
        "outputId": "a083f292-7646-4650-9883-978c2e8f989d"
      },
      "execution_count": 140,
      "outputs": [
        {
          "output_type": "execute_result",
          "data": {
            "text/plain": [
              "55"
            ]
          },
          "metadata": {},
          "execution_count": 140
        }
      ]
    },
    {
      "cell_type": "code",
      "source": [
        "mi_calculadora.restar(array)"
      ],
      "metadata": {
        "colab": {
          "base_uri": "https://localhost:8080/"
        },
        "id": "n9fdJ2eX1hLD",
        "outputId": "8e5fed83-4386-43ab-ddb1-1207b92d2a26"
      },
      "execution_count": 141,
      "outputs": [
        {
          "output_type": "execute_result",
          "data": {
            "text/plain": [
              "-55"
            ]
          },
          "metadata": {},
          "execution_count": 141
        }
      ]
    },
    {
      "cell_type": "code",
      "source": [
        "class Calculator(object):\n",
        "  def __init__(self, array):\n",
        "    self.array = array\n",
        "\n",
        "  def sumar(self):\n",
        "    return np.sum(self.array)\n",
        "\n",
        "  def restar(self):\n",
        "    negatives = [-x for x in self.array]\n",
        "    return np.sum(negatives)\n",
        "\n",
        "  @property\n",
        "  def get_array(self):\n",
        "    return self.array\n",
        "\n",
        "  def set_array(self, new_array):\n",
        "    self.array = new_array\n",
        "\n",
        "  def __str__(self):\n",
        "    return 'esta es una calculadora que solo suma y resta raro'"
      ],
      "metadata": {
        "id": "K1K7GuXh9dJN"
      },
      "execution_count": 182,
      "outputs": []
    },
    {
      "cell_type": "code",
      "source": [
        "mi_calculadora2 = Calculator([1,2,3,4,5])"
      ],
      "metadata": {
        "id": "Hz0AAU3K9dG0"
      },
      "execution_count": 191,
      "outputs": []
    },
    {
      "cell_type": "code",
      "source": [
        "mi_calculadora2.sumar()"
      ],
      "metadata": {
        "colab": {
          "base_uri": "https://localhost:8080/"
        },
        "id": "uP8N3SWf9dB1",
        "outputId": "3583f604-d1a8-4cd5-cb28-b2776f97954f"
      },
      "execution_count": 192,
      "outputs": [
        {
          "output_type": "execute_result",
          "data": {
            "text/plain": [
              "15"
            ]
          },
          "metadata": {},
          "execution_count": 192
        }
      ]
    },
    {
      "cell_type": "code",
      "source": [
        "mi_calculadora2.restar()"
      ],
      "metadata": {
        "colab": {
          "base_uri": "https://localhost:8080/"
        },
        "id": "g5UJox939c_V",
        "outputId": "8f57ad72-0925-4a32-c26b-18ac5dcf7492"
      },
      "execution_count": 193,
      "outputs": [
        {
          "output_type": "execute_result",
          "data": {
            "text/plain": [
              "-15"
            ]
          },
          "metadata": {},
          "execution_count": 193
        }
      ]
    },
    {
      "cell_type": "code",
      "source": [
        "mi_calculadora2.get_array"
      ],
      "metadata": {
        "colab": {
          "base_uri": "https://localhost:8080/"
        },
        "id": "Y3hwD0l09c8t",
        "outputId": "9dffe2f1-00a9-48bf-c43c-89bd9300fa93"
      },
      "execution_count": 194,
      "outputs": [
        {
          "output_type": "execute_result",
          "data": {
            "text/plain": [
              "[1, 2, 3, 4, 5]"
            ]
          },
          "metadata": {},
          "execution_count": 194
        }
      ]
    },
    {
      "cell_type": "code",
      "source": [
        "mi_calculadora2.array"
      ],
      "metadata": {
        "colab": {
          "base_uri": "https://localhost:8080/"
        },
        "id": "mAYSbkrj9c6N",
        "outputId": "276c1220-561d-4538-9946-d7ae1bf5953a"
      },
      "execution_count": 195,
      "outputs": [
        {
          "output_type": "execute_result",
          "data": {
            "text/plain": [
              "[1, 2, 3, 4, 5]"
            ]
          },
          "metadata": {},
          "execution_count": 195
        }
      ]
    },
    {
      "cell_type": "code",
      "source": [
        "mi_calculadora2.set_array([1,2,3])"
      ],
      "metadata": {
        "id": "I9P_mTNV9c3O"
      },
      "execution_count": 196,
      "outputs": []
    },
    {
      "cell_type": "code",
      "source": [
        "mi_calculadora2.array"
      ],
      "metadata": {
        "colab": {
          "base_uri": "https://localhost:8080/"
        },
        "id": "EJC_nZMfAi87",
        "outputId": "046e4b30-f5bf-4349-e45c-0c25e9898d0f"
      },
      "execution_count": 197,
      "outputs": [
        {
          "output_type": "execute_result",
          "data": {
            "text/plain": [
              "[1, 2, 3]"
            ]
          },
          "metadata": {},
          "execution_count": 197
        }
      ]
    },
    {
      "cell_type": "code",
      "source": [
        "mi_calculadora2.sumar()"
      ],
      "metadata": {
        "id": "UGwikZ_dJomw",
        "colab": {
          "base_uri": "https://localhost:8080/"
        },
        "outputId": "c68b4bfc-6a17-47f5-c9af-a36debd00063"
      },
      "execution_count": 198,
      "outputs": [
        {
          "output_type": "execute_result",
          "data": {
            "text/plain": [
              "6"
            ]
          },
          "metadata": {},
          "execution_count": 198
        }
      ]
    },
    {
      "cell_type": "code",
      "source": [
        "mi_calculadora2.array = [5,5,5]"
      ],
      "metadata": {
        "id": "2PxL87zgJwef"
      },
      "execution_count": 200,
      "outputs": []
    },
    {
      "cell_type": "code",
      "source": [
        "mi_calculadora2.restar()"
      ],
      "metadata": {
        "id": "2HiDV2f1Jxr_",
        "colab": {
          "base_uri": "https://localhost:8080/"
        },
        "outputId": "07132f28-e420-47ee-e69d-725c63ee763a"
      },
      "execution_count": 202,
      "outputs": [
        {
          "output_type": "execute_result",
          "data": {
            "text/plain": [
              "-15"
            ]
          },
          "metadata": {},
          "execution_count": 202
        }
      ]
    }
  ]
}